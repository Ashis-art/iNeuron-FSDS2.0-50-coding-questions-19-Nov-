{
 "cells": [
  {
   "cell_type": "raw",
   "id": "60b6f0c4-87d7-464a-a919-fafe79fbb6eb",
   "metadata": {},
   "source": [
    "1. Print the first 5 positive integers in ascending order with one number \n",
    "in each line"
   ]
  },
  {
   "cell_type": "code",
   "execution_count": 2,
   "id": "5263ac6a",
   "metadata": {},
   "outputs": [
    {
     "name": "stdout",
     "output_type": "stream",
     "text": [
      "1\n",
      "2\n",
      "3\n",
      "4\n",
      "5\n"
     ]
    }
   ],
   "source": [
    "for i in range(5):\n",
    "    print(i+1)"
   ]
  },
  {
   "cell_type": "raw",
   "id": "a723c70f-2393-4dcc-b34c-2e045588207b",
   "metadata": {},
   "source": [
    "2. Print the following pattern\n",
    "*\n",
    "**\n",
    "***\n",
    "****\n",
    "*****\n",
    "There are no spaces between consecutive stars. There are no spaces \n",
    "at the end of each line."
   ]
  },
  {
   "cell_type": "code",
   "execution_count": 5,
   "id": "47682229",
   "metadata": {},
   "outputs": [
    {
     "name": "stdout",
     "output_type": "stream",
     "text": [
      "*\n",
      "**\n",
      "***\n",
      "****\n",
      "*****\n"
     ]
    }
   ],
   "source": [
    "for i in range(1,6):\n",
    "    print(\"*\"*i)"
   ]
  },
  {
   "cell_type": "code",
   "execution_count": 7,
   "id": "cdac963b",
   "metadata": {},
   "outputs": [
    {
     "name": "stdout",
     "output_type": "stream",
     "text": [
      "*\n",
      "**\n",
      "***\n",
      "****\n",
      "*****\n"
     ]
    }
   ],
   "source": [
    "for i in range(1,6):\n",
    "    for j in range(i):\n",
    "        print(\"*\",end = \"\")\n",
    "    print()"
   ]
  },
  {
   "cell_type": "raw",
   "id": "d9263791-a394-44ee-8ba9-4fb01759b6ac",
   "metadata": {},
   "source": [
    "3. Accept an integer as input and print its square as output."
   ]
  },
  {
   "cell_type": "code",
   "execution_count": 9,
   "id": "59a2473e",
   "metadata": {},
   "outputs": [
    {
     "name": "stdout",
     "output_type": "stream",
     "text": [
      "Enter i: 5\n",
      "25\n"
     ]
    }
   ],
   "source": [
    "n = int(input(\"Enter i: \"))\n",
    "print(n**2)"
   ]
  },
  {
   "cell_type": "raw",
   "id": "49ca4411-ab36-4e57-8d62-3628156bc49b",
   "metadata": {},
   "source": [
    "4.Accept two integers as input and print their sum as output."
   ]
  },
  {
   "cell_type": "code",
   "execution_count": 10,
   "id": "a35fca23",
   "metadata": {},
   "outputs": [
    {
     "name": "stdout",
     "output_type": "stream",
     "text": [
      "a : 4\n",
      "b: 6\n",
      "10\n"
     ]
    }
   ],
   "source": [
    "a = int(input(\"a : \"))\n",
    "b = int(input(\"b: \"))\n",
    "print(a+b)"
   ]
  },
  {
   "cell_type": "raw",
   "id": "f303afc2-f3af-4d9d-a4d8-7c2da8f24e3c",
   "metadata": {},
   "source": [
    "5. Accept two words as input and print the two words after adding a \n",
    "space between them"
   ]
  },
  {
   "cell_type": "code",
   "execution_count": 11,
   "id": "14ab3674",
   "metadata": {},
   "outputs": [
    {
     "name": "stdout",
     "output_type": "stream",
     "text": [
      "s: hi\n",
      "t: hello\n",
      "hi hello\n"
     ]
    }
   ],
   "source": [
    "s = input(\"s: \")\n",
    "t = input(\"t: \")\n",
    "print(s+\" \"+t)"
   ]
  },
  {
   "cell_type": "code",
   "execution_count": 12,
   "id": "fedd10ff",
   "metadata": {},
   "outputs": [
    {
     "name": "stdout",
     "output_type": "stream",
     "text": [
      "hi\n",
      "jeetu\n",
      "hi jeetu\n"
     ]
    }
   ],
   "source": [
    "print(input(), input())"
   ]
  },
  {
   "cell_type": "raw",
   "id": "1fdd53ab-a380-4caa-bdec-2876024a044d",
   "metadata": {},
   "source": [
    "6. Accept the registration number of a vehicle as input and print its \n",
    "state-code as output."
   ]
  },
  {
   "cell_type": "code",
   "execution_count": 13,
   "id": "5208639a",
   "metadata": {},
   "outputs": [
    {
     "name": "stdout",
     "output_type": "stream",
     "text": [
      "Enter registration number: OD01B2234\n",
      "OD\n"
     ]
    }
   ],
   "source": [
    "reg = input(\"Enter registration number: \")\n",
    "print(reg[0:2])"
   ]
  },
  {
   "cell_type": "raw",
   "id": "e476d0d4-2d90-4764-b4ce-91d6d67729c2",
   "metadata": {},
   "source": [
    "7.Accept a five-digit number as input and print the sum of its digits as \n",
    "output."
   ]
  },
  {
   "cell_type": "code",
   "execution_count": 2,
   "id": "e9879288",
   "metadata": {},
   "outputs": [
    {
     "name": "stdout",
     "output_type": "stream",
     "text": [
      "Enter 5 dig num: 12345\n",
      "15\n"
     ]
    }
   ],
   "source": [
    "n = int(input(\"Enter 5 dig num: \"))\n",
    "sum = 0\n",
    "while(n>0):\n",
    "    d = n%10\n",
    "    sum += d\n",
    "    n = n//10\n",
    "print(sum)"
   ]
  },
  {
   "cell_type": "code",
   "execution_count": 4,
   "id": "c4950dc7",
   "metadata": {},
   "outputs": [
    {
     "name": "stdout",
     "output_type": "stream",
     "text": [
      "n: 12345\n",
      "15\n"
     ]
    }
   ],
   "source": [
    "n1 = input(\"n: \")\n",
    "s = 0\n",
    "for i in n1:\n",
    "    s += int(i)\n",
    "print(s)"
   ]
  },
  {
   "cell_type": "code",
   "execution_count": 8,
   "id": "6ce09bd5",
   "metadata": {},
   "outputs": [
    {
     "name": "stdout",
     "output_type": "stream",
     "text": [
      "n: 12345\n",
      "15\n"
     ]
    }
   ],
   "source": [
    "n1 = input(\"n: \")\n",
    "s = 0\n",
    "for i in range(len(n1)):\n",
    "    s += int(n1[i])\n",
    "print(s)"
   ]
  },
  {
   "cell_type": "raw",
   "id": "47ef2a83-4d51-4340-8770-9490474f43a9",
   "metadata": {},
   "source": [
    "8.Accept five words as input and print the sentence formed by these \n",
    "words after adding a space between consecutive words and a full stop \n",
    "at the end."
   ]
  },
  {
   "cell_type": "code",
   "execution_count": 5,
   "id": "d92af231",
   "metadata": {},
   "outputs": [
    {
     "name": "stdout",
     "output_type": "stream",
     "text": [
      "h\n",
      "a\n",
      "p\n",
      "p\n",
      "y\n",
      "h a p p y.\n"
     ]
    }
   ],
   "source": [
    "print(f\"{input()} {input()} {input()} {input()} {input()}.\")"
   ]
  },
  {
   "cell_type": "raw",
   "id": "7b0fb9d7-98dc-4ab9-9548-c12f49f787a0",
   "metadata": {},
   "source": [
    "9.Accept the date in DD-MM-YYYY format as input and print the \n",
    "year as output."
   ]
  },
  {
   "cell_type": "code",
   "execution_count": 13,
   "id": "38c61ff7",
   "metadata": {},
   "outputs": [
    {
     "name": "stdout",
     "output_type": "stream",
     "text": [
      "Enter date: 12122022\n",
      "12-12-2022\n",
      "year: date 2022\n"
     ]
    }
   ],
   "source": [
    "date = input(\"Enter date: \")\n",
    "print(f\"{date[0:2]}-{date[2:4]}-{date[4:8]}\")\n",
    "print(\"year: date\",date[4:])"
   ]
  },
  {
   "cell_type": "raw",
   "id": "521abc20-5c4a-4fda-a3d7-45c626ad4d1c",
   "metadata": {},
   "source": [
    "10.Accept a sequence of five single digit numbers separated by commas \n",
    "as input. Print the product of all five numbers."
   ]
  },
  {
   "cell_type": "code",
   "execution_count": 10,
   "id": "d33e93a6",
   "metadata": {},
   "outputs": [
    {
     "name": "stdout",
     "output_type": "stream",
     "text": [
      "1,2,3,4,5\n",
      "120\n"
     ]
    }
   ],
   "source": [
    "n = input().split(',')\n",
    "m = 1\n",
    "for i in n:\n",
    "    m *= int(i)\n",
    "print(m)"
   ]
  },
  {
   "cell_type": "raw",
   "id": "482e853e-2564-4eaf-a46b-0f31d3369f58",
   "metadata": {},
   "source": [
    "11. Accept two positive integers x and y as input. Print the number of \n",
    "digits in xy"
   ]
  },
  {
   "cell_type": "code",
   "execution_count": 17,
   "id": "25465840",
   "metadata": {},
   "outputs": [
    {
     "name": "stdout",
     "output_type": "stream",
     "text": [
      "x: 5\n",
      "y: 2\n",
      "No of dig: 2\n"
     ]
    }
   ],
   "source": [
    "x = int(input(\"x: \"))\n",
    "y = int(input(\"y: \"))\n",
    "#m = str(x**y)\n",
    "print(\"No of dig:\",len(str(x**y)))"
   ]
  },
  {
   "cell_type": "raw",
   "id": "af890b67-6c1f-412c-bbbe-8fc1358e0a91",
   "metadata": {},
   "source": [
    "12. Accept a string as input. If the input string is of odd length, then \n",
    "continue with it. If the input string is of even length, make the \n",
    "string of odd length as below:\n",
    "• If the last character is a period (.), then remove it \n",
    "• If the last character is not a period, then add a period (.) to the \n",
    "end of the string\n",
    "Call this string of odd length word. Select a substring made up of \n",
    "three consecutive characters from word such that there are an \n",
    "equal number of characters to the left and right of this substring. \n",
    "Print this substring as output. You can assume that all input \n",
    "strings will be in lower case and will have a length of at least four"
   ]
  },
  {
   "cell_type": "code",
   "execution_count": 4,
   "id": "e82e5fee",
   "metadata": {},
   "outputs": [
    {
     "name": "stdout",
     "output_type": "stream",
     "text": [
      "s: Welcome\n",
      "lco\n"
     ]
    }
   ],
   "source": [
    "s = input(\"s: \")\n",
    "if len(s)%2 != 0:\n",
    "    p = (len(s)-1)//2\n",
    "    print(s[p-1:p+2])\n",
    "else:\n",
    "    if s[-1] == '.':\n",
    "        s.replace('.','')\n",
    "    else:\n",
    "        #s = s+'.'\n",
    "        s = ''.join((s,'.'))\n",
    "    print(s)"
   ]
  },
  {
   "cell_type": "code",
   "execution_count": 11,
   "id": "9706217d",
   "metadata": {},
   "outputs": [
    {
     "name": "stdout",
     "output_type": "stream",
     "text": [
      "welcome\n",
      "lco\n"
     ]
    }
   ],
   "source": [
    "s = input()\n",
    "n = len(s)\n",
    "if n%2 == 0:\n",
    "    if s[n-1] == '.':\n",
    "        s = s[:-1]\n",
    "    else:\n",
    "        s = s+'.'\n",
    "n = int((len(s)-1)/2)\n",
    "print(s[n-1:n+2])"
   ]
  },
  {
   "cell_type": "raw",
   "id": "7188ddf7-aeae-43c7-add9-8a31e08a2bc9",
   "metadata": {},
   "source": [
    "13. Accept three positive integers as input and check if they form the \n",
    "sides of a right triangle. Print YES if they form one, and NO is they do \n",
    "not. The input will have three lines, with one integer on each line. \n",
    "The output should be a single line containing one of these two \n",
    "strings: YES or NO."
   ]
  },
  {
   "cell_type": "code",
   "execution_count": 14,
   "id": "09d54ffc",
   "metadata": {},
   "outputs": [
    {
     "name": "stdout",
     "output_type": "stream",
     "text": [
      "4\n",
      "3\n",
      "5\n",
      "YES\n"
     ]
    }
   ],
   "source": [
    "a = int(input())\n",
    "b = int(input())\n",
    "c = int(input())\n",
    "\n",
    "if (a*a+b*b==c*c) or (b*b+c*c==a*a) or (a*a+c*c==b*b):\n",
    "    print(\"YES\")\n",
    "else:\n",
    "    print(\"NO\")"
   ]
  },
  {
   "cell_type": "raw",
   "id": "5e16b40c-a122-4dbc-a681-bca1fe32a1dc",
   "metadata": {},
   "source": [
    "14. EvenOdd is a tech startup. Each employee at the startup is given an employee id which is a unique \n",
    "positive integer. On one warm Sunday evening, five employees of the company come together for a \n",
    "meeting and sit at a circular table:\n",
    "The employees follow a strange convention. They will continue the meeting only if the following \n",
    "condition is satisfied.\n",
    "The sum of the employee-ids of every pair of adjacent employees at the table must be an even \n",
    "number.\n",
    "They are so lazy that they won’t move around to satisfy the above condition, If the current seating \n",
    "plan doesn’t satisfy the condition, the meeting will be cancelled. You are given the employee-id of all \n",
    "five employees. Your task is to decide if the meeting happened or not.\n",
    "The input will be five lined, each containing an integer. The ith line will have the employee-id of Ei. \n",
    "The output will be a single line containing one of these two strings: YES or NO"
   ]
  },
  {
   "cell_type": "code",
   "execution_count": 2,
   "id": "c6cc37c8",
   "metadata": {},
   "outputs": [
    {
     "name": "stdout",
     "output_type": "stream",
     "text": [
      "Enter id of emp 0: 1\n",
      "Enter id of emp 1: 3\n",
      "Enter id of emp 2: 5\n",
      "Enter id of emp 3: 7\n",
      "Enter id of emp 4: 9\n",
      "YES\n"
     ]
    }
   ],
   "source": [
    "i = 0\n",
    "l = []\n",
    "while(i<5):\n",
    "    n = int(input(f\"Enter id of emp {i}: \"))\n",
    "    l.append(n)\n",
    "    i+=1\n",
    "for i in range(len(l)-1):\n",
    "    if (l[i]+l[i+1]) % 2 != 0:\n",
    "        print(l[i]+l[i+1])\n",
    "        print(\"NO\")\n",
    "        break\n",
    "print(\"YES\")"
   ]
  },
  {
   "cell_type": "raw",
   "id": "1d651eb9-add5-4f2b-9a92-57303f327be3",
   "metadata": {},
   "source": [
    "15. Accept a string as input and print the vowels present in the string in \n",
    "alphabetical order. If the string doesn’t contain any vowels, then \n",
    "print the string none as output. Each vowel that appears in the input \n",
    "string – irrespective of its case should appear just once in lower case \n",
    "in the output"
   ]
  },
  {
   "cell_type": "code",
   "execution_count": 6,
   "id": "b29a8c49",
   "metadata": {},
   "outputs": [
    {
     "name": "stdout",
     "output_type": "stream",
     "text": [
      "Inueron\n",
      "['e', 'i', 'o', 'u']\n",
      "['n', 'n', 'r']\n"
     ]
    }
   ],
   "source": [
    "s = input().lower()\n",
    "s1 = ''.join(sorted(s))\n",
    "l = []\n",
    "v = []\n",
    "for i in s1:\n",
    "    if i in ['a','e','i','o','u']:\n",
    "        if i not in l:\n",
    "            l.append(i)\n",
    "    else:\n",
    "        v.append(i)\n",
    "print(l)\n",
    "print(v)"
   ]
  },
  {
   "cell_type": "raw",
   "id": "f7e76b4b-b3f7-4766-a82b-5e63a879b380",
   "metadata": {},
   "source": [
    "16.You are given the date of birth of two persons, not necessarily from \n",
    "the same family. Your task is to find the younger of the two. If both \n",
    "of them share the same date of birth, then the younger of the two is \n",
    "assumed to be that person whose name comes first in alphabetical \n",
    "order.\n",
    "The input will have four lines. The first two lines correspond to the \n",
    "first person, while the last two lines correspond to the second \n",
    "person. For each person, the first line corresponds to the name and \n",
    "the second line corresponds to the date of birth in “DD-MM-YYYY” \n",
    "format. Your output should be the name of the younger of the two."
   ]
  },
  {
   "cell_type": "code",
   "execution_count": 9,
   "id": "fa4b534d",
   "metadata": {},
   "outputs": [
    {
     "name": "stdout",
     "output_type": "stream",
     "text": [
      "Enter n1: Ashis\n",
      "Enter d1: 18-02-2000\n",
      "Enter n2: Avipsa\n",
      "Enter d2: 25-07-2005\n",
      "Avipsa\n"
     ]
    }
   ],
   "source": [
    "n1 = input(\"Enter n1: \")\n",
    "d1 = input(\"Enter d1: \")\n",
    "n2 = input(\"Enter n2: \")\n",
    "d2 = input(\"Enter d2: \")\n",
    "\n",
    "if d1 == d2:\n",
    "    if n1<n2:\n",
    "        print(n1)\n",
    "    else:\n",
    "        print(n2)\n",
    "elif d1[-4:] != d2[-4:]:\n",
    "    if int(d1[-4:]) < int(d2[-4:]):\n",
    "        print(n2)\n",
    "    else:\n",
    "        print(n1)\n",
    "elif d1[3:5]!=d2[3:5]:\n",
    "    if (int(d1[3:5]))<(int(d2[3:5])):\n",
    "        print(n2)\n",
    "else:\n",
    "    print(n1)"
   ]
  },
  {
   "cell_type": "raw",
   "id": "6ee8f8bd-15aa-40d8-9cef-2f7e22f6cf5d",
   "metadata": {},
   "source": [
    "17.Accept a string as input. Your task is to determine if the input string is a valid password or not. For a \n",
    "string to be a valid password, it must satisfy all the conditions given below:\n",
    "(1) It should have at least 8 and at most 32 characters\n",
    "(2) It should start with an uppercase or lowercase letter\n",
    "(3) It should not have any of these characters: / \\ = ' \"\n",
    "(4) It should not have spaces\n",
    "It could have any character that is not mentioned in the list of characters to be avoided (points 3 and \n",
    "4). Output True if the string forms a valid password and False otherwise"
   ]
  },
  {
   "cell_type": "code",
   "execution_count": 13,
   "id": "c769eb36",
   "metadata": {},
   "outputs": [
    {
     "name": "stdout",
     "output_type": "stream",
     "text": [
      "Ashiss/@123\n",
      "False\n"
     ]
    }
   ],
   "source": [
    "p = input()\n",
    "if (8 <= len(p) <= 32) and (p[0].isupper() == True or p[0].islower() == True) and ('/' not in p and '\\\\' not in p and '=' not in p and '\\'' not in p and '\\\"' not in p and \" \" not in p):\n",
    "    print(\"True\")\n",
    "else:\n",
    "    print(\"False\")"
   ]
  },
  {
   "cell_type": "raw",
   "id": "a4d2f09c-6787-477e-8ed5-4ed4257469cb",
   "metadata": {},
   "source": [
    "18. Accept a positive integer n as input and print the first n positive \n",
    "integers, one number on each line."
   ]
  },
  {
   "cell_type": "code",
   "execution_count": 19,
   "id": "fca88ed7",
   "metadata": {},
   "outputs": [
    {
     "name": "stdout",
     "output_type": "stream",
     "text": [
      "Enter positive integer n: -5\n",
      "Enter a positive integer!!\n"
     ]
    }
   ],
   "source": [
    "n = int(input(\"Enter positive integer n: \"))\n",
    "if n > 0:\n",
    "    for i in range(1,n+1):\n",
    "            print(i)\n",
    "else:\n",
    "    print(\"Enter a positive integer!!\")"
   ]
  },
  {
   "cell_type": "raw",
   "id": "0527265b-0110-476d-8bf6-6a724749197e",
   "metadata": {},
   "source": [
    "19.Accept a positive integer n as input, where n is greater than 1. \n",
    "Print PRIME ifnis a prime number and NOTPRIME otherwise."
   ]
  },
  {
   "cell_type": "code",
   "execution_count": 24,
   "id": "c19537c9",
   "metadata": {},
   "outputs": [
    {
     "name": "stdout",
     "output_type": "stream",
     "text": [
      "Enter a positive integer: 1\n",
      "n must be greater than 1!!!\n"
     ]
    }
   ],
   "source": [
    "import math\n",
    "n = int(input(\"Enter a positive integer: \"))\n",
    "if n>1:\n",
    "    for i in range(2,int(math.sqrt(n))+1):\n",
    "        if n%i == 0:\n",
    "            print(\"NONPRIME\")\n",
    "            break\n",
    "        else:\n",
    "            print(\"PRIME\")\n",
    "else:\n",
    "    print(\"n must be greater than 1!!!\")"
   ]
  },
  {
   "cell_type": "raw",
   "id": "8d8297d3-a658-4afd-9b7f-b2ee198faa52",
   "metadata": {},
   "source": [
    "20. Accept two strings as input and form a new string by removing all \n",
    "characters from the second string which are present in the first string. \n",
    "Print this new string as output. You can assume that all input strings \n",
    "will be in lower case."
   ]
  },
  {
   "cell_type": "code",
   "execution_count": 26,
   "id": "72dd8e45",
   "metadata": {},
   "outputs": [
    {
     "name": "stdout",
     "output_type": "stream",
     "text": [
      "sam\n",
      "ramu\n",
      "ru\n"
     ]
    }
   ],
   "source": [
    "a = input()\n",
    "b = input()\n",
    "for i in a:\n",
    "    if i in b:\n",
    "        b = b.replace(i,'')\n",
    "print(b)"
   ]
  },
  {
   "cell_type": "raw",
   "id": "9d4ca698-02c3-415a-8b99-7b59c5702d8d",
   "metadata": {},
   "source": [
    "21.Accept a phone number as input. A valid phone number should satisfy \n",
    "the following constraints.\n",
    "(1) The number should start with one of these digits: 6, 7, 8, 9\n",
    "(2) The number should be exactly 10 digits long.\n",
    "(3) No digit should appear more than 7 times in the number.\n",
    "(4) No digit should appear more than 5 times in a row in the \n",
    "number.\n",
    "If the fourth condition is not very clear, then consider this example: \n",
    "the number 9888888765 is invalid because the digit 8 appears more \n",
    "than 5 times in a row. Print the string valid if the phone number is \n",
    "valid. If not, print the string invalid."
   ]
  },
  {
   "cell_type": "code",
   "execution_count": 1,
   "id": "e689bc7c",
   "metadata": {},
   "outputs": [
    {
     "name": "stdout",
     "output_type": "stream",
     "text": [
      "988888865\n",
      "invalid\n"
     ]
    }
   ],
   "source": [
    "def is_valid(n):\n",
    "    a = False\n",
    "    if (len(n) == 10) and int(n[0]>5) and n.isdigit():\n",
    "        for i in range(10):\n",
    "            if n.count(n[i])<8:\n",
    "                a = True\n",
    "                if n[i]*6 in n:\n",
    "                    a = False\n",
    "                    break\n",
    "                else:\n",
    "                    break\n",
    "    if a:\n",
    "        return \"valid\"\n",
    "    else:\n",
    "        return \"invalid\"\n",
    "    \n",
    "num = input()\n",
    "print(is_valid(num))"
   ]
  },
  {
   "cell_type": "raw",
   "id": "781b0869-d8b7-4f2f-b4cd-16d0e128fd0f",
   "metadata": {},
   "source": [
    "22. In the first line of input, accept a sequence of space-separated words. In the second line of \n",
    "input, accept a single word. If this word is not present in the sequence, print NO. If this word \n",
    "is present in the sequence, then print YES and in the next line of the output, print the number \n",
    "of times the word appears in the sequence."
   ]
  },
  {
   "cell_type": "code",
   "execution_count": 3,
   "id": "757957d7",
   "metadata": {},
   "outputs": [
    {
     "name": "stdout",
     "output_type": "stream",
     "text": [
      "I love code i write code in ineuron\n",
      "code\n",
      "YES\n",
      "2\n"
     ]
    }
   ],
   "source": [
    "s = input().split(' ')\n",
    "w = input()\n",
    "if w in s:\n",
    "    print(\"YES\")\n",
    "    print(s.count(w))\n",
    "else:\n",
    "    print(\"NO\")"
   ]
  },
  {
   "cell_type": "raw",
   "id": "ea752210-2e2a-428b-937c-31251daf7ba8",
   "metadata": {},
   "source": [
    "23. Write a function named factorial that accepts an integer n as argument. It should return \n",
    "the factorial of n if n is a positive integer. It should return -1 if n is a negative integer, and it \n",
    "should return 1 if n is zero."
   ]
  },
  {
   "cell_type": "code",
   "execution_count": 15,
   "id": "4aa29cde",
   "metadata": {},
   "outputs": [
    {
     "name": "stdout",
     "output_type": "stream",
     "text": [
      "5\n"
     ]
    },
    {
     "data": {
      "text/plain": [
       "120"
      ]
     },
     "execution_count": 15,
     "metadata": {},
     "output_type": "execute_result"
    }
   ],
   "source": [
    "def factorial(n):\n",
    "    if n<0:\n",
    "        return -2\n",
    "    elif n<2:\n",
    "        return 1\n",
    "    else:\n",
    "        return n*factorial(n-1)\n",
    "n = int(input())\n",
    "factorial(n)"
   ]
  },
  {
   "cell_type": "raw",
   "id": "c757a0b6-8450-47af-9b1f-f6ce69ebc775",
   "metadata": {},
   "source": [
    "24. \n",
    "The range of a list of numbers is the difference between the maximum and minimum values in the list\n",
    "Write a function named get_range that accepts a non-empty list of real numbers as argument. It \n",
    "should return the range of the list.\n",
    "(1) Avoid using built-in function such as max and min.\n",
    "(2) You do not have to accept input from the user or print output to the console. You just have to write \n",
    "the function definition."
   ]
  },
  {
   "cell_type": "code",
   "execution_count": 6,
   "id": "177b7b18",
   "metadata": {},
   "outputs": [
    {
     "data": {
      "text/plain": [
       "844"
      ]
     },
     "execution_count": 6,
     "metadata": {},
     "output_type": "execute_result"
    }
   ],
   "source": [
    "def get_max(l):\n",
    "    maxi = l[0]\n",
    "    for i in l:\n",
    "        if i>maxi:\n",
    "            maxi = i\n",
    "    return maxi\n",
    "def get_min(l):\n",
    "    mini = l[0]\n",
    "    for i in l:\n",
    "        if i<mini:\n",
    "            mini = i\n",
    "    return mini\n",
    "def get_range(l):\n",
    "    maxi = get_max(l)\n",
    "    mini = get_min(l)\n",
    "    return maxi-mini\n",
    "l = [324,46,67,878,34,657,34]\n",
    "get_range(l)"
   ]
  },
  {
   "cell_type": "raw",
   "id": "8f3ba3db-9ed9-4c14-ac23-41f3225ad874",
   "metadata": {},
   "source": [
    "25. Write a function named read_file that accepts a text file named filename as argument. Within \n",
    "the function, read the file and print each line of the file on a separate line in the console. You shouldn't \n",
    "print any extra characters at the end of a line. There shouldn't be an empty line between any two \n",
    "consecutive lines.\n",
    "(1) filename is a string variable that holds the name of the file. For example, in the first test case, it \n",
    "is filename = 'public_1.txt'.\n",
    "(2) You do not have to accept input from the console. You have to write the function definition and \n",
    "print the contents of the file within the function"
   ]
  },
  {
   "cell_type": "code",
   "execution_count": 5,
   "id": "bf23f034",
   "metadata": {},
   "outputs": [],
   "source": [
    "with open('public_1.txt','w') as f:\n",
    "    f.write(\"\"\"Hi this is class test and \n",
    "    I am practicing Python!!!\"\"\")"
   ]
  },
  {
   "cell_type": "code",
   "execution_count": 8,
   "id": "cf10aa62",
   "metadata": {},
   "outputs": [
    {
     "name": "stdout",
     "output_type": "stream",
     "text": [
      "Hi this is class test and \n",
      "    I am practicing Python!!!\n"
     ]
    }
   ],
   "source": [
    "def read_file(file):\n",
    "    with open(file,'r') as f:\n",
    "        print(f.read())\n",
    "read_file('public_1.txt')"
   ]
  },
  {
   "cell_type": "raw",
   "id": "b2d94805-f65b-47c2-9d18-2a8bdbe5c2dc",
   "metadata": {},
   "source": [
    "26. A simple algorithm has to be designed to find out whether a student \n",
    "belongs to the Data Science branch or not. The input will be a \n",
    "student's roll number, which is of the form BR18B0000. \n",
    "Here, BR represents the branch code, 18 represents the year of \n",
    "joining, B represents the education level and 0000 represents the \n",
    "specific identification given to the student of that batch. The branch \n",
    "code for Data Science is DS. Print True if the student belongs to \n",
    "Data Science branch and False otherwise."
   ]
  },
  {
   "cell_type": "code",
   "execution_count": 9,
   "id": "4d0b72a6",
   "metadata": {},
   "outputs": [
    {
     "name": "stdout",
     "output_type": "stream",
     "text": [
      "BR18B0000\n"
     ]
    },
    {
     "data": {
      "text/plain": [
       "'False'"
      ]
     },
     "execution_count": 9,
     "metadata": {},
     "output_type": "execute_result"
    }
   ],
   "source": [
    "def is_DS(r):\n",
    "    if r[:2] == 'DS':\n",
    "        return \"True\"\n",
    "    else:\n",
    "        return \"False\"\n",
    "\n",
    "r = input()\n",
    "is_DS(r)"
   ]
  },
  {
   "cell_type": "raw",
   "id": "52e69e6b-ab1d-411c-8750-7a2de08bc8dd",
   "metadata": {},
   "source": [
    "27.The police are trying to track a criminal based on the evidence \n",
    "available at a crime site. Their main clue is a vehicle's damaged \n",
    "number plate. Only the string TN07 is visible. The format of the \n",
    "registration number is AA00AA00, where the first two letters are \n",
    "alphabets, next two are numbers, next two are again alphabets \n",
    "followed by two numbers at the end. A number plate is picked from a \n",
    "database of registration numbers and is given to you as input. Your \n",
    "task is to determine if this could belong to the criminal or not. \n",
    "Print True if the number plate \n",
    "contains TN07 and False otherwise."
   ]
  },
  {
   "cell_type": "code",
   "execution_count": null,
   "id": "dc562882",
   "metadata": {},
   "outputs": [],
   "source": [
    "def check_plate(n):\n",
    "    if n[:4] == \"TN07\":\n",
    "        return \"True\"\n",
    "    return \"False\""
   ]
  },
  {
   "cell_type": "raw",
   "id": "11b4a079-30a1-480d-a759-2b54ab29f90f",
   "metadata": {},
   "source": [
    "28. You are given a string and two non-negative integers as input. The \n",
    "two integers specify the start and end indices of a substring in the \n",
    "given string. Create a new string by replicating the substring a \n",
    "minimum number of times so that the resulting string is longer than \n",
    "the input string. The input parameters are the string, start index of \n",
    "the substring and the end index of substring (endpoints inclusive) \n",
    "each on a different line."
   ]
  },
  {
   "cell_type": "code",
   "execution_count": 13,
   "id": "65c9fd64",
   "metadata": {},
   "outputs": [
    {
     "name": "stdout",
     "output_type": "stream",
     "text": [
      "elephant\n",
      "2\n",
      "5\n"
     ]
    },
    {
     "data": {
      "text/plain": [
       "'ephaephaepha'"
      ]
     },
     "execution_count": 13,
     "metadata": {},
     "output_type": "execute_result"
    }
   ],
   "source": [
    "def substr(s,a,b):\n",
    "    s1 = \"\"\n",
    "    while len(s1)<len(s):\n",
    "        s1 += s[a:b+1]\n",
    "    s1 += s[a:b+1]\n",
    "    return s1\n",
    "\n",
    "s = input()\n",
    "a = int(input())\n",
    "b = int(input())\n",
    "substr(s,a,b)"
   ]
  },
  {
   "cell_type": "raw",
   "id": "2c2d9d8e-e84a-4ca1-8791-8033b8e650a0",
   "metadata": {},
   "source": [
    "29. A class teacher has decided to split her entire class into four groups, namely Sapphire, Peridot, Ruby, \n",
    "and Emerald for sports competitions. For dividing the students into these four groups, she has \n",
    "followed the pattern given below:\n",
    "Sapphire - 1, 5, 9, 13, 17, 21, ...\n",
    "Peridot - 2, 6, 10, 14, 18, 22, ...\n",
    "Ruby - 3, 7, 11, 15, 19, 23, ...\n",
    "Emerald - 4, 8, 12, 16, 20, 24, ...\n",
    "All the students are represented by their roll numbers. Based on the above pattern, given the roll \n",
    "number as input, print the group the student belongs to. Note that the roll number can be any \n",
    "positive integer and not necessarily less than 25."
   ]
  },
  {
   "cell_type": "code",
   "execution_count": 19,
   "id": "3fac9a5f",
   "metadata": {},
   "outputs": [
    {
     "data": {
      "text/plain": [
       "'Groups: sapphire:[1, 5, 9, 13, 17, 21, 25] peridot:[2, 6, 10, 14, 18, 22, 26] ruby:[3, 7, 11, 15, 19, 23, 27] emerald:[4, 8, 12, 16, 20, 24, 28]'"
      ]
     },
     "execution_count": 19,
     "metadata": {},
     "output_type": "execute_result"
    }
   ],
   "source": [
    "def gen_team(n):\n",
    "    sapphire = []\n",
    "    peridot = []\n",
    "    ruby = []\n",
    "    emerald = []\n",
    "    for i in range(1,n+1,4):\n",
    "        sapphire.append(i)\n",
    "        peridot.append(i+1)\n",
    "        ruby.append(i+2)\n",
    "        emerald.append(i+3)\n",
    "    return f\"Groups: sapphire:{sapphire} peridot:{peridot} ruby:{ruby} emerald:{emerald}\"\n",
    "n = 25\n",
    "gen_team(n)"
   ]
  },
  {
   "cell_type": "code",
   "execution_count": 1,
   "id": "315c9bdc",
   "metadata": {},
   "outputs": [
    {
     "name": "stdout",
     "output_type": "stream",
     "text": [
      "10\n",
      "peridot\n"
     ]
    }
   ],
   "source": [
    "n = int(input())\n",
    "for i in range(1,n+1,4):\n",
    "    if n == i:\n",
    "        print(\"sapphire\")\n",
    "for j in range(2,n+1,4):\n",
    "    if n == j:\n",
    "        print(\"peridot\")\n",
    "for k in range(3,n+1,4):\n",
    "    if n == k:\n",
    "        print(\"ruby\")\n",
    "for l in range(4,n+1,4):\n",
    "    if n == k:\n",
    "        print(\"emerald\")"
   ]
  },
  {
   "cell_type": "raw",
   "id": "7e18467c-5ccb-4820-bc5f-c4adc9babe2c",
   "metadata": {},
   "source": [
    "30. A data science company wants to hire data scientists from abc college. \n",
    "The company follows a certain criteria for selection: for a student to \n",
    "be selected, the number of backlogs should be at most 5 and the \n",
    "CGPA (Cumulative Grade Point Average) should be greater than 6. If \n",
    "the student does not fit the above criteria, then the student is not \n",
    "offered the job. If the student is selected, then the salary offered is \n",
    "equal to 5 times his/her CGPA (in lakhs).\n",
    "Accept the number of backlogs (integer) and the CGPA (float) of the \n",
    "student as input. Your task is to determine if the student is selected or \n",
    "not. If the student is selected, then print the package. If not, then \n",
    "print the string Not Selected."
   ]
  },
  {
   "cell_type": "code",
   "execution_count": 3,
   "id": "ddcf2e28",
   "metadata": {},
   "outputs": [
    {
     "name": "stdout",
     "output_type": "stream",
     "text": [
      "blog: 4\n",
      "cgpa: 8\n"
     ]
    },
    {
     "data": {
      "text/plain": [
       "'Selected!!!, Salary: 400000'"
      ]
     },
     "execution_count": 3,
     "metadata": {},
     "output_type": "execute_result"
    }
   ],
   "source": [
    "def is_selected(blog,cgpa):\n",
    "    if blog>5 and cgpa>6:\n",
    "        return \"Not Selected!\"\n",
    "    else:\n",
    "        return f\"Selected!!!, Salary: {cgpa*50000}\"\n",
    "\n",
    "blog = int(input(\"blog: \"))\n",
    "cgpa = int(input(\"cgpa: \"))\n",
    "is_selected(blog,cgpa)"
   ]
  },
  {
   "cell_type": "raw",
   "id": "15b2b2b3-e511-4184-af23-c42d9ee021b8",
   "metadata": {},
   "source": [
    "31. Accept a string as input and print PALINDROME if it is a \n",
    "palindrome, and NOT PALINDROME otherwise"
   ]
  },
  {
   "cell_type": "code",
   "execution_count": 6,
   "id": "29e2821f",
   "metadata": {},
   "outputs": [
    {
     "name": "stdout",
     "output_type": "stream",
     "text": [
      "malayalam\n"
     ]
    },
    {
     "data": {
      "text/plain": [
       "'PALINDROME'"
      ]
     },
     "execution_count": 6,
     "metadata": {},
     "output_type": "execute_result"
    }
   ],
   "source": [
    "def is_pal(s):\n",
    "    if s == s[::-1]:\n",
    "        return \"PALINDROME\"\n",
    "    return \"NOT PALINDROME\"\n",
    "s = input()\n",
    "is_pal(s)"
   ]
  },
  {
   "cell_type": "raw",
   "id": "92cfcd2b-ae26-4009-85b4-15e7996421ac",
   "metadata": {},
   "source": [
    "32. In a portal login website, you are asked to write a function get_password_strength to decide \n",
    "the strength of a password. The strength is decided based on the total score of the password, Use \n",
    "following conditions:\n",
    "1) If password has length greater than 7 then score increases by one point.\n",
    "2) If password has at least one upper case and one lower case alphabets score increases by one point.\n",
    "3) If password has at least one number and no consecutive numbers like 12 or 234 then score \n",
    "increases by one point.\n",
    "4) If password has at least one special character (any character other than numbers and alphabets) then \n",
    "score increases by one point.\n",
    "5) If password contains username, then it is invalid password.\n",
    "If the password has score of four points, three points, two points, or one point then print Very \n",
    "Strong, Strong, Moderate, or Weak respectively. If the password is invalid, then \n",
    "print PASSWORD SHOULD NOT CONTAIN USERNAME and If the score is zero, then print Use a \n",
    "different password.The arguments to the function are username and password which are \n",
    "already defined"
   ]
  },
  {
   "cell_type": "code",
   "execution_count": 1,
   "id": "69e32f87",
   "metadata": {},
   "outputs": [
    {
     "name": "stdout",
     "output_type": "stream",
     "text": [
      "HiHelloBye\n",
      "safd\n",
      "\n"
     ]
    }
   ],
   "source": [
    "def get_password_strength(p,u):\n",
    "    s = 0\n",
    "    c = 'ABCDEFGHIJKLMNOPQRSTUVWXYZ'\n",
    "    cf = False\n",
    "    l = 'abcdefghijklmnop'\n",
    "    lf = False\n",
    "    n = '0123456789'\n",
    "    nf = False\n",
    "    ncf = True\n",
    "    if u in p:\n",
    "        return \"PASSWORD SHOULD NOT CONTAIN USERNAME\"\n",
    "    if len(p)>7:\n",
    "        s+=1\n",
    "    for i in range(len(p)):\n",
    "        if p[i] in c:\n",
    "            cf = True\n",
    "        elif p[i] in l:\n",
    "            sf = True\n",
    "        elif p[i] in n:\n",
    "            nf = True\n",
    "        if nf:\n",
    "            if i!=(len(p)+1):\n",
    "                if n[((n.index(p[i]))+1)]==p[i+1]:\n",
    "                    ncf = False\n",
    "    if cf and sf:\n",
    "        s+=1\n",
    "    if nf and ncf:\n",
    "        s+=1\n",
    "    if not p.isalnum():\n",
    "        s+=1\n",
    "    print()  \n",
    "    if c==4:\n",
    "        return \"very strong\"\n",
    "    elif c==3:\n",
    "        return \"strong\"\n",
    "    elif c==2:\n",
    "        return \"moderate\"\n",
    "    elif c==1:\n",
    "        return \"week\"\n",
    "    elif c==0:\n",
    "        return \"use a different password\"\n",
    "\n",
    "p = input()\n",
    "u = input()\n",
    "get_password_strength(p,u)"
   ]
  },
  {
   "cell_type": "code",
   "execution_count": null,
   "id": "3818cba2",
   "metadata": {},
   "outputs": [],
   "source": [
    "33.Decorator that logs the date and time"
   ]
  },
  {
   "cell_type": "code",
   "execution_count": 7,
   "id": "0f2de94c",
   "metadata": {},
   "outputs": [],
   "source": [
    "from datetime import datetime\n",
    "\n",
    "def log_datetime(func):\n",
    "    \n",
    "    def wrapper():\n",
    "        print(f'function: {func.__name__} \\nRun on  {datetime.today().strftime(\"%Y-%m-%d %H:%M:%S\")}')\n",
    "        print(f'{\"-\"*30}')\n",
    "        func()\n",
    "    return wrapper\n",
    "\n",
    "@log_datetime\n",
    "def daily_backup():\n",
    "    print(\"Daily backup job has finished\")"
   ]
  },
  {
   "cell_type": "code",
   "execution_count": 22,
   "id": "4dca08b1",
   "metadata": {},
   "outputs": [
    {
     "name": "stdout",
     "output_type": "stream",
     "text": [
      "function: daily_backup \n",
      "Run on  2022-11-26 16:06:43\n",
      "------------------------------\n",
      "Daily backup job has finished\n"
     ]
    }
   ],
   "source": [
    "daily_backup()"
   ]
  },
  {
   "cell_type": "raw",
   "id": "93474414-e8ba-439d-9f7d-0f3f4eb648b9",
   "metadata": {},
   "source": [
    "34.Program to Get Data Items From a List Appearing Odd Number of Times"
   ]
  },
  {
   "cell_type": "code",
   "execution_count": 9,
   "id": "8aa0460a",
   "metadata": {},
   "outputs": [
    {
     "name": "stdout",
     "output_type": "stream",
     "text": [
      "[2, 3, 5]\n"
     ]
    }
   ],
   "source": [
    "x = [1,2,3,4,5,1,3,3,4]\n",
    "l1 = []\n",
    "for i in x:\n",
    "    if x.count(i) % 2 != 0:\n",
    "        if i not in l1:\n",
    "            l1.append(i)\n",
    "print(l1)"
   ]
  },
  {
   "cell_type": "raw",
   "id": "70caf71f-6a2d-42a5-bb41-a83e99f3b0cb",
   "metadata": {},
   "source": [
    "35.What are decorators in Python?"
   ]
  },
  {
   "cell_type": "code",
   "execution_count": null,
   "id": "b34b0a60",
   "metadata": {},
   "outputs": [],
   "source": [
    "Decorators are a very powerful and useful tool in Python since it allows programmers to modify the behaviour of a function or class."
   ]
  },
  {
   "cell_type": "code",
   "execution_count": 20,
   "id": "bde17bea",
   "metadata": {},
   "outputs": [],
   "source": [
    "#Q. Write string to convert into lower case and split\n",
    "\n",
    "#decorator function lowercase\n",
    "def lowercase_dec(function):\n",
    "    def wrapper():\n",
    "        func = function()\n",
    "        string_lowercase = func.lower()\n",
    "        return string_lowercase\n",
    "    return wrapper\n",
    "\n",
    "#decoraotr function to split words\n",
    "def splitter_dec(function):\n",
    "    def wrapper():\n",
    "        func = function()\n",
    "        string_split=func.split()\n",
    "        return srtring_split\n",
    "    return wrapper"
   ]
  },
  {
   "cell_type": "code",
   "execution_count": 21,
   "id": "73ee94e1",
   "metadata": {},
   "outputs": [],
   "source": [
    "@splitter_dec\n",
    "@lowercase_dec\n",
    "def hello():\n",
    "    return 'hello world'"
   ]
  },
  {
   "cell_type": "code",
   "execution_count": null,
   "id": "109ba1c7",
   "metadata": {},
   "outputs": [],
   "source": [
    "hello()"
   ]
  },
  {
   "cell_type": "raw",
   "id": "00d3f3e6-8d1a-459c-8f05-fec2d7a72f0b",
   "metadata": {},
   "source": [
    "36. remove items from a list while iterating but without creating a different copy of a list.\n",
    "Remove numbers greater than 50\n",
    "number_list = [10, 20, 30, 40, 50, 60, 70, 80, 90, 100]\n",
    "Expected Output: [10, 20, 30, 40, 50]"
   ]
  },
  {
   "cell_type": "code",
   "execution_count": 24,
   "id": "997e8367",
   "metadata": {},
   "outputs": [
    {
     "name": "stdout",
     "output_type": "stream",
     "text": [
      "[60, 70, 80, 90, 100]\n"
     ]
    }
   ],
   "source": [
    "number_list = [10, 20, 30, 40, 50, 60, 70, 80, 90, 100]\n",
    "l = list(filter((lambda x:x>50),number_list))\n",
    "# or - l = [i for i in l if i>50]\n",
    "print(l)"
   ]
  },
  {
   "cell_type": "raw",
   "id": "6a034cd6-9a75-4912-8286-2396360ffa28",
   "metadata": {},
   "source": [
    "37.  Display all duplicate items from a list\n",
    "sample_list = [10, 20, 60, 30, 20, 40, 30, 60, 70, 80]\n",
    "Expected Output: [20, 60, 30]"
   ]
  },
  {
   "cell_type": "code",
   "execution_count": 26,
   "id": "e2a4971a",
   "metadata": {},
   "outputs": [
    {
     "name": "stdout",
     "output_type": "stream",
     "text": [
      "[20, 60, 30]\n"
     ]
    }
   ],
   "source": [
    "sample_list = [10, 20, 60, 30, 20, 40, 30, 60, 70, 80]\n",
    "l = [i for i in sample_list if sample_list.count(i)>1]\n",
    "print(list(set(l)))"
   ]
  },
  {
   "cell_type": "code",
   "execution_count": 28,
   "id": "b20eae52",
   "metadata": {},
   "outputs": [
    {
     "name": "stdout",
     "output_type": "stream",
     "text": [
      "[20, 60, 30]\n"
     ]
    }
   ],
   "source": [
    "import collections\n",
    "s = [10, 20, 60, 30, 20, 40, 30, 60, 70, 80]\n",
    "dup = []\n",
    "for item,count in collections.Counter(sample_list).items():\n",
    "    if count>1:\n",
    "        dup.append(item)\n",
    "print(dup)"
   ]
  },
  {
   "cell_type": "raw",
   "id": "03607aeb-291c-41e0-bb35-101d53d1f25f",
   "metadata": {},
   "source": [
    "38. Create an outer function that will accept two strings, x and y. (x= 'Emma' and y = 'Kelly'.\n",
    "Create an inner function inside an outer function that will concatenate x and y.\n",
    "At last, an outer function will join the word 'developer' to it."
   ]
  },
  {
   "cell_type": "code",
   "execution_count": null,
   "id": "b3b00f65",
   "metadata": {},
   "outputs": [],
   "source": [
    "# def out_fun(x,y):\n",
    "#     def in_fun():\n",
    "#         return x+y\n",
    "#     return in_fun"
   ]
  },
  {
   "cell_type": "code",
   "execution_count": 31,
   "id": "21cf328e",
   "metadata": {},
   "outputs": [],
   "source": [
    "def manipulate(x,y):\n",
    "    def inner_func(x,y):\n",
    "        return x+y\n",
    "    z = inner_func(x,y)\n",
    "    return z + 'developer'"
   ]
  },
  {
   "cell_type": "code",
   "execution_count": 32,
   "id": "8c2ce6e8",
   "metadata": {},
   "outputs": [
    {
     "name": "stdout",
     "output_type": "stream",
     "text": [
      "abcxyzdeveloper\n"
     ]
    }
   ],
   "source": [
    "print(manipulate('abc','xyz'))"
   ]
  },
  {
   "cell_type": "raw",
   "id": "c3238d35-61fa-4d2a-8e92-c393399b1b5b",
   "metadata": {},
   "source": [
    "39. Modify the element of a nested list inside the following list\n",
    "Change the element 35 to 3500\n",
    "list1 = [5, [10, 15, [20, 25, [30, 35], 40], 45], 50]"
   ]
  },
  {
   "cell_type": "code",
   "execution_count": 30,
   "id": "4f80aa2d",
   "metadata": {},
   "outputs": [
    {
     "data": {
      "text/plain": [
       "[5, [10, 15, [20, 25, [30, 3500], 40], 45], 50]"
      ]
     },
     "execution_count": 30,
     "metadata": {},
     "output_type": "execute_result"
    }
   ],
   "source": [
    "list1 = [5, [10, 15, [20, 25, [30, 35], 40], 45], 50]\n",
    "list1[1][2][2][1] = 3500\n",
    "list1"
   ]
  },
  {
   "cell_type": "raw",
   "id": "0106b7da-e95f-46ba-873a-e641d7199be7",
   "metadata": {},
   "source": [
    "40.  Access the nested key increment from the following dictionary\n",
    "Access 12\n",
    "emp_dict = {\n",
    "    \"company\": {\n",
    "        \"employee\": {\n",
    "            \"name\": \"Jess\",\n",
    "            \"payable\": {\n",
    "                \"salary\": 9000,\n",
    "                \"increment\": 12\n",
    "            }\n",
    "        }\n",
    "    }\n",
    "}"
   ]
  },
  {
   "cell_type": "code",
   "execution_count": 33,
   "id": "a810d2ef",
   "metadata": {},
   "outputs": [],
   "source": [
    "emp_dict = {\n",
    "    \"company\": {\n",
    "        \"employee\": {\n",
    "            \"name\": \"Jess\",\n",
    "            \"payable\": {\n",
    "                \"salary\": 9000,\n",
    "                \"increment\": 12\n",
    "            }\n",
    "        }\n",
    "    }\n",
    "}"
   ]
  },
  {
   "cell_type": "code",
   "execution_count": 37,
   "id": "61ae3da4",
   "metadata": {},
   "outputs": [
    {
     "data": {
      "text/plain": [
       "12"
      ]
     },
     "execution_count": 37,
     "metadata": {},
     "output_type": "execute_result"
    }
   ],
   "source": [
    "emp_dict['company']['employee']['payable']['increment']"
   ]
  },
  {
   "cell_type": "raw",
   "id": "a36e12a4-baf9-4c0b-90e6-c16fd60b02ba",
   "metadata": {},
   "source": [
    "41. Print the sum of the current number and the previous number\n",
    "Write a program to iterate the first 10 numbers and in each iteration, print the sum of the current and previous number.\n",
    "Printing current and previous number sum in a range(10)\n",
    "Current Number 0 Previous Number  0  Sum:  0\n",
    "Current Number 1 Previous Number  0  Sum:  1\n",
    "Current Number 2 Previous Number  1  Sum:  3\n",
    "Current Number 3 Previous Number  2  Sum:  5\n",
    "Current Number 4 Previous Number  3  Sum:  7\n",
    "Current Number 5 Previous Number  4  Sum:  9\n",
    "Current Number 6 Previous Number  5  Sum:  11\n",
    "Current Number 7 Previous Number  6  Sum:  13\n",
    "Current Number 8 Previous Number  7  Sum:  15\n",
    "Current Number 9 Previous Number  8  Sum:  17"
   ]
  },
  {
   "cell_type": "code",
   "execution_count": 6,
   "id": "7302c95e",
   "metadata": {},
   "outputs": [
    {
     "name": "stdout",
     "output_type": "stream",
     "text": [
      "Current Number 0 Previous Number 0 Sum: 0\n",
      "Current Number 1 Previous Number 0 Sum: 1\n",
      "Current Number 2 Previous Number 1 Sum: 3\n",
      "Current Number 3 Previous Number 2 Sum: 5\n",
      "Current Number 4 Previous Number 3 Sum: 7\n",
      "Current Number 5 Previous Number 4 Sum: 9\n",
      "Current Number 6 Previous Number 5 Sum: 11\n",
      "Current Number 7 Previous Number 6 Sum: 13\n",
      "Current Number 8 Previous Number 7 Sum: 15\n",
      "Current Number 9 Previous Number 8 Sum: 17\n"
     ]
    }
   ],
   "source": [
    "for i in range(10):\n",
    "    if i == 0:\n",
    "        print(f\"Current Number {i} Previous Number {i} Sum: {i}\")\n",
    "    else:\n",
    "        print(f\"Current Number {i} Previous Number {i-1} Sum: {i+(i-1)}\")"
   ]
  },
  {
   "cell_type": "raw",
   "id": "04f5ef21-9056-4a31-bc4d-b5641a6bc80d",
   "metadata": {},
   "source": [
    "42. Print characters from a string that are present at an even index number\n",
    "Write a program to accept a string from the user and display characters that are present at an even index number.\n",
    "\n",
    "For example, str = \"ineuron\" so you should display ‘i’, ‘e’, ‘r’, ‘n’."
   ]
  },
  {
   "cell_type": "code",
   "execution_count": 8,
   "id": "a0da1c47",
   "metadata": {},
   "outputs": [
    {
     "name": "stdout",
     "output_type": "stream",
     "text": [
      "ineuron\n",
      "i e r n "
     ]
    }
   ],
   "source": [
    "s = input()\n",
    "# l = []\n",
    "for i in range(0,len(s),2):\n",
    "    print(s[i],end=\" \")\n",
    "#     if i%2 == 0:\n",
    "#         print(s[i],end=\" \")\n",
    "#         l.append(s[i])\n",
    "#l"
   ]
  },
  {
   "cell_type": "raw",
   "id": "19f5f95f-8e4e-48c8-8639-247f8f058efa",
   "metadata": {},
   "source": [
    "43. Print multiplication table form 1 to 10\n",
    "1  2 3 4 5 6 7 8 9 10 \t\t\n",
    "2  4 6 8 10 12 14 16 18 20 \t\t\n",
    "3  6 9 12 15 18 21 24 27 30 \t\t\n",
    "4  8 12 16 20 24 28 32 36 40 \t\t\n",
    "5  10 15 20 25 30 35 40 45 50 \t\t\n",
    "6  12 18 24 30 36 42 48 54 60 \t\t\n",
    "7  14 21 28 35 42 49 56 63 70 \t\t\n",
    "8  16 24 32 40 48 56 64 72 80 \t\t\n",
    "9  18 27 36 45 54 63 72 81 90 \t\t\n",
    "10 20 30 40 50 60 70 80 90 100 "
   ]
  },
  {
   "cell_type": "code",
   "execution_count": 15,
   "id": "f7576d74",
   "metadata": {},
   "outputs": [
    {
     "name": "stdout",
     "output_type": "stream",
     "text": [
      "1 2 3 4 5 6 7 8 9 10 \n",
      "2 4 6 8 10 12 14 16 18 20 \n",
      "3 6 9 12 15 18 21 24 27 30 \n",
      "4 8 12 16 20 24 28 32 36 40 \n",
      "5 10 15 20 25 30 35 40 45 50 \n",
      "6 12 18 24 30 36 42 48 54 60 \n",
      "7 14 21 28 35 42 49 56 63 70 \n",
      "8 16 24 32 40 48 56 64 72 80 \n",
      "9 18 27 36 45 54 63 72 81 90 \n",
      "10 20 30 40 50 60 70 80 90 100 \n"
     ]
    }
   ],
   "source": [
    "def mulTable(n):\n",
    "    for i in range(1,n+1):\n",
    "        for j in range(1,11):\n",
    "            print(f\"{i*j}\",end=\" \")\n",
    "        print()\n",
    "mulTable(10)"
   ]
  },
  {
   "cell_type": "raw",
   "id": "07f9b814-fc05-4a97-8a50-b762ab2522e6",
   "metadata": {},
   "source": [
    "44. Remove duplicates from a list and create a tuple and find the minimum and maximum number\n",
    "sample_list = [87, 45, 41, 65, 94, 41, 99, 94]\n",
    "Expected Outcome:\n",
    "unique items [87, 45, 41, 65, 99]\n",
    "tuple (87, 45, 41, 65, 99)\n",
    "min: 41\n",
    "max: 99"
   ]
  },
  {
   "cell_type": "code",
   "execution_count": 18,
   "id": "82ae9d6c",
   "metadata": {},
   "outputs": [
    {
     "name": "stdout",
     "output_type": "stream",
     "text": [
      "(65, 99, 41, 45, 87, 94) \n",
      "min:41 \n",
      "max:99\n"
     ]
    }
   ],
   "source": [
    "s = [87, 45, 41, 65, 94, 41, 99, 94]\n",
    "unique_tuple = tuple(set(s))\n",
    "print(f\"{unique_tuple} \\nmin:{min(unique_tuple)} \\nmax:{max(unique_tuple)}\")"
   ]
  },
  {
   "cell_type": "raw",
   "id": "f4d4b1a2-7c19-43c4-922c-837b6c40f5fb",
   "metadata": {},
   "source": [
    "45. Write a Python program to create a lambda function that adds 15 to a given number passed in as an argument,\n",
    "also create a lambda function\n",
    "that multiplies argument x with argument y and print the result."
   ]
  },
  {
   "cell_type": "code",
   "execution_count": 20,
   "id": "9c4a626d",
   "metadata": {},
   "outputs": [
    {
     "name": "stdout",
     "output_type": "stream",
     "text": [
      "add: 20 mul: 20\n"
     ]
    }
   ],
   "source": [
    "add = lambda x:x+15\n",
    "mul = lambda x,y:x*y\n",
    "print(f\"add: {add(5)} mul: {mul(5,4)}\")"
   ]
  },
  {
   "cell_type": "raw",
   "id": "58df2f9a-6310-4e59-a5fe-6658ff7898e1",
   "metadata": {},
   "source": [
    "46. Write a Python program to sort a list of tuples using Lambda."
   ]
  },
  {
   "cell_type": "code",
   "execution_count": 6,
   "id": "9cb3f55e",
   "metadata": {},
   "outputs": [
    {
     "data": {
      "text/plain": [
       "[(2, 'r'), (3, 't'), (4, 'x')]"
      ]
     },
     "execution_count": 6,
     "metadata": {},
     "output_type": "execute_result"
    }
   ],
   "source": [
    "sortLst = lambda x:sorted(x)\n",
    "l = [(3,'t'),(2,'r'),(4,'x')]\n",
    "sortLst(l)"
   ]
  },
  {
   "cell_type": "raw",
   "id": "745bbb70-f71c-4042-a99a-f42bccef267e",
   "metadata": {},
   "source": [
    "47. Write a Python program to extract year, month, date and time using Lambda."
   ]
  },
  {
   "cell_type": "code",
   "execution_count": 9,
   "id": "c08de4d2",
   "metadata": {},
   "outputs": [
    {
     "name": "stdout",
     "output_type": "stream",
     "text": [
      "2022   11   26   26   08:04:57.732869\n"
     ]
    }
   ],
   "source": [
    "import datetime\n",
    "day = datetime.datetime.now()\n",
    "year = lambda y:y.year\n",
    "month = lambda m:m.month\n",
    "date = lambda d:d.day\n",
    "time = lambda t:t.time()\n",
    "print(year(day),\" \",month(day),\" \",date(day),\" \",date(day),\" \",time(day))"
   ]
  },
  {
   "cell_type": "raw",
   "id": "afcf0f97-d39b-4554-a14f-411096bd515e",
   "metadata": {},
   "source": [
    "48. Write a Python program to count the even, odd numbers in a given array of integers using Lambda."
   ]
  },
  {
   "cell_type": "code",
   "execution_count": 5,
   "id": "f4e87962",
   "metadata": {},
   "outputs": [
    {
     "data": {
      "text/plain": [
       "'even: 8 and odd: 5'"
      ]
     },
     "execution_count": 5,
     "metadata": {},
     "output_type": "execute_result"
    }
   ],
   "source": [
    "def oddEven(l):\n",
    "    even = len(list(filter(lambda x:x%2 == 0, l)))\n",
    "    odd = len(list(filter(lambda x:x%2 !=0, l)))\n",
    "    return f\"even: {even} and odd: {odd}\"\n",
    "l = [24,54,656,76,87,45,76,34,23,56,867,34,567]\n",
    "oddEven(l)"
   ]
  },
  {
   "cell_type": "raw",
   "id": "dbd65ee9-2f83-4286-a7b3-52f398ab8527",
   "metadata": {},
   "source": [
    "49. Write a Python program to convert all the characters in uppercase and lowercase and eliminate duplicate letters from a given sequence.\n",
    "Use map() function."
   ]
  },
  {
   "cell_type": "code",
   "execution_count": 26,
   "id": "fe312091",
   "metadata": {},
   "outputs": [
    {
     "name": "stdout",
     "output_type": "stream",
     "text": [
      "Original Characters:\n",
      " {'a', 'i', 'b', 'E', 'U', 'o', 'f'}\n",
      "\n",
      "After converting above characters in upper and lower cases\n",
      "and eliminating duplicate letters:\n",
      "{('B', 'b'), ('U', 'u'), ('F', 'f'), ('O', 'o'), ('I', 'i'), ('A', 'a'), ('E', 'e')}\n"
     ]
    }
   ],
   "source": [
    "def change_cases(s):\n",
    "  return str(s).upper(), str(s).lower()\n",
    " \n",
    "chrars = {'a', 'b', 'E', 'f', 'a', 'i', 'o', 'U', 'a'}\n",
    "print(\"Original Characters:\\n\",chrars)\n",
    " \n",
    "result = map(change_cases, chrars)\n",
    "print(\"\\nAfter converting above characters in upper and lower cases\\nand eliminating duplicate letters:\")\n",
    "print(set(result))"
   ]
  },
  {
   "cell_type": "raw",
   "id": "78c63beb-b43b-48ad-bb20-31f403af2f10",
   "metadata": {},
   "source": [
    "50.  Write a Python program to square the elements of a list using map() function."
   ]
  },
  {
   "cell_type": "code",
   "execution_count": 25,
   "id": "871ff7b2",
   "metadata": {},
   "outputs": [
    {
     "data": {
      "text/plain": [
       "[4, 9, 16, 25, 36]"
      ]
     },
     "execution_count": 25,
     "metadata": {},
     "output_type": "execute_result"
    }
   ],
   "source": [
    "def square(l):\n",
    "    return list(map(lambda x:pow(x,2),l))\n",
    "square([2,3,4,5,6])"
   ]
  }
 ],
 "metadata": {
  "kernelspec": {
   "display_name": "Python 3 (ipykernel)",
   "language": "python",
   "name": "python3"
  },
  "language_info": {
   "codemirror_mode": {
    "name": "ipython",
    "version": 3
   },
   "file_extension": ".py",
   "mimetype": "text/x-python",
   "name": "python",
   "nbconvert_exporter": "python",
   "pygments_lexer": "ipython3",
   "version": "3.9.12"
  }
 },
 "nbformat": 4,
 "nbformat_minor": 5
}
